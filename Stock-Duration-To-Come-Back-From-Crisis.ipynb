{
 "cells": [
  {
   "cell_type": "markdown",
   "metadata": {},
   "source": [
    "# Stock-Duration-To-Come-Back-From-Crisis"
   ]
  },
  {
   "cell_type": "code",
   "execution_count": 66,
   "metadata": {},
   "outputs": [
    {
     "data": {
      "text/plain": [
       "'/Users/Armellini1/opt/anaconda3/envs/finenv/bin/python'"
      ]
     },
     "execution_count": 66,
     "metadata": {},
     "output_type": "execute_result"
    }
   ],
   "source": [
    "import sys\n",
    "sys.executable # Check in which virtual environment I am operating"
   ]
  },
  {
   "cell_type": "markdown",
   "metadata": {},
   "source": [
    "Generating a table with the worst crisis for a stock over a given period of time. And the time it took for the stock to come back to the initial price it had fallen from.\n",
    "\n",
    "This will give an historical view of the kind of crises a company faced in its history, and the duration it took the company to recover form that crisis.\n",
    "\n",
    "\n",
    "| Company   | Crisis     |  Low | from High | Change | got back by | after (years)\n",
    "|-----------|----------- |------|-----------|--------|-------------|--------------\n",
    "| Boeing    | 1973-03-10 | \\$10 |  \\$20     | -50%   |1976-09-10   |3.5"
   ]
  },
  {
   "cell_type": "code",
   "execution_count": 67,
   "metadata": {},
   "outputs": [],
   "source": [
    "import numpy as np\n",
    "import pandas as pd\n",
    "import yfinance as yf # Module to retrieve data on financial instruments (similar to 'yahoo finance')\n",
    "import matplotlib\n",
    "from matplotlib import pyplot as plt # Import pyplot for plotting\n",
    "from pandas.plotting import register_matplotlib_converters # to register Register Pandas Formatters and Converters with matplotlib.\n",
    "from pandas.tseries.offsets import DateOffset\n",
    "plt.style.use('seaborn') # using a specific matplotlib style\n",
    "from dateutil.relativedelta import relativedelta"
   ]
  },
  {
   "cell_type": "markdown",
   "metadata": {},
   "source": [
    "## Parameters"
   ]
  },
  {
   "cell_type": "markdown",
   "metadata": {},
   "source": [
    "### `stock`"
   ]
  },
  {
   "cell_type": "markdown",
   "metadata": {},
   "source": [
    "Captures the sock (company) to be studied. \n",
    "\n",
    "The variable should be set with the official \"Ticker\" of the company.\n",
    "\n",
    "E.g: `stock = 'AAPL'` for Ticker AAPL (Ticker of the company Apple)."
   ]
  },
  {
   "cell_type": "code",
   "execution_count": 68,
   "metadata": {},
   "outputs": [],
   "source": [
    "stock = 'BA' # stock ticker under study. Example: 'AAPL'\n",
    "stock_name = 'Boeing' # name of the stock. Example: 'Apple'"
   ]
  },
  {
   "cell_type": "markdown",
   "metadata": {},
   "source": [
    "### `period`"
   ]
  },
  {
   "cell_type": "markdown",
   "metadata": {},
   "source": [
    "Period of time under study. \n",
    "\n",
    "This is the period of time during which we want to find the crisis for the stock under study.\n",
    "\n",
    "For example, it can be the last 5 years, the last 10 years or the maximum period for which we have data."
   ]
  },
  {
   "cell_type": "code",
   "execution_count": 69,
   "metadata": {},
   "outputs": [],
   "source": [
    "period = 'max' # valid period values: 1y,2y,5y,10y,ytd,max"
   ]
  },
  {
   "cell_type": "markdown",
   "metadata": {},
   "source": [
    "### `time_window`"
   ]
  },
  {
   "cell_type": "markdown",
   "metadata": {},
   "source": [
    "The time window is the moving time interval used to calculate the loss of the sotck.\n",
    "At each point in time, the loss will be calculated compared to a reference point dated at the beginning of that time window.\n",
    "\n",
    "This way, the loss calculated will be representative of the loss over that rolling time window.\n",
    "\n",
    "E.g.: \n",
    "`time_window = '20'`\n",
    "The change will be calculated over a rolling time window of 20 trading days.\n"
   ]
  },
  {
   "cell_type": "code",
   "execution_count": 70,
   "metadata": {},
   "outputs": [],
   "source": [
    "time_window = 20 # in open trading days"
   ]
  },
  {
   "cell_type": "markdown",
   "metadata": {},
   "source": [
    "### `large_loss`"
   ]
  },
  {
   "cell_type": "markdown",
   "metadata": {},
   "source": [
    "A stock will be considered to have a crisis if the loss it suffers over the `time_window` is larger than `large_loss`."
   ]
  },
  {
   "cell_type": "code",
   "execution_count": 71,
   "metadata": {},
   "outputs": [],
   "source": [
    "large_loss = -0.30 # large loss (a percentage number: large_loss = -0.30 represents a loss of -30%)"
   ]
  },
  {
   "cell_type": "markdown",
   "metadata": {},
   "source": [
    "## Implementation"
   ]
  },
  {
   "cell_type": "markdown",
   "metadata": {},
   "source": [
    "### Get the stock historical price data for the period under study"
   ]
  },
  {
   "cell_type": "markdown",
   "metadata": {},
   "source": [
    "Use the yfinance module to download the daily data for the period. And store the result in a Pandas DataFrame."
   ]
  },
  {
   "cell_type": "code",
   "execution_count": 72,
   "metadata": {},
   "outputs": [
    {
     "name": "stdout",
     "output_type": "stream",
     "text": [
      "[*********************100%***********************]  1 of 1 completed\n"
     ]
    },
    {
     "data": {
      "text/html": [
       "<div>\n",
       "<style scoped>\n",
       "    .dataframe tbody tr th:only-of-type {\n",
       "        vertical-align: middle;\n",
       "    }\n",
       "\n",
       "    .dataframe tbody tr th {\n",
       "        vertical-align: top;\n",
       "    }\n",
       "\n",
       "    .dataframe thead th {\n",
       "        text-align: right;\n",
       "    }\n",
       "</style>\n",
       "<table border=\"1\" class=\"dataframe\">\n",
       "  <thead>\n",
       "    <tr style=\"text-align: right;\">\n",
       "      <th></th>\n",
       "      <th>Date</th>\n",
       "      <th>Company</th>\n",
       "      <th>Close</th>\n",
       "    </tr>\n",
       "  </thead>\n",
       "  <tbody>\n",
       "    <tr>\n",
       "      <th>0</th>\n",
       "      <td>1962-01-02</td>\n",
       "      <td>Boeing</td>\n",
       "      <td>0.823045</td>\n",
       "    </tr>\n",
       "    <tr>\n",
       "      <th>1</th>\n",
       "      <td>1962-01-03</td>\n",
       "      <td>Boeing</td>\n",
       "      <td>0.839506</td>\n",
       "    </tr>\n",
       "    <tr>\n",
       "      <th>2</th>\n",
       "      <td>1962-01-04</td>\n",
       "      <td>Boeing</td>\n",
       "      <td>0.831276</td>\n",
       "    </tr>\n",
       "    <tr>\n",
       "      <th>3</th>\n",
       "      <td>1962-01-05</td>\n",
       "      <td>Boeing</td>\n",
       "      <td>0.814815</td>\n",
       "    </tr>\n",
       "    <tr>\n",
       "      <th>4</th>\n",
       "      <td>1962-01-08</td>\n",
       "      <td>Boeing</td>\n",
       "      <td>0.816872</td>\n",
       "    </tr>\n",
       "  </tbody>\n",
       "</table>\n",
       "</div>"
      ],
      "text/plain": [
       "        Date Company     Close\n",
       "0 1962-01-02  Boeing  0.823045\n",
       "1 1962-01-03  Boeing  0.839506\n",
       "2 1962-01-04  Boeing  0.831276\n",
       "3 1962-01-05  Boeing  0.814815\n",
       "4 1962-01-08  Boeing  0.816872"
      ]
     },
     "execution_count": 72,
     "metadata": {},
     "output_type": "execute_result"
    }
   ],
   "source": [
    "df = yf.download(tickers=stock, period= period, interval='1d') # Download the data\n",
    "df.drop(columns=['Open','High','Low','Adj Close','Volume'],inplace=True) # Drop unnecessary columns\n",
    "df.insert(0, 'Company', stock_name) # Insert a column \"Company\" with the stock name in it\n",
    "# Reset the index in order to make the \"Date\" column a normal column.\n",
    "df.reset_index(inplace=True)\n",
    "df.head() # Display the first rows of the data"
   ]
  },
  {
   "cell_type": "markdown",
   "metadata": {},
   "source": [
    "### Calculate Change over the `time_window` rolling period"
   ]
  },
  {
   "cell_type": "markdown",
   "metadata": {},
   "source": [
    "Create a column to store the reference price at the beginning of the time window."
   ]
  },
  {
   "cell_type": "code",
   "execution_count": 73,
   "metadata": {},
   "outputs": [
    {
     "data": {
      "text/html": [
       "<div>\n",
       "<style scoped>\n",
       "    .dataframe tbody tr th:only-of-type {\n",
       "        vertical-align: middle;\n",
       "    }\n",
       "\n",
       "    .dataframe tbody tr th {\n",
       "        vertical-align: top;\n",
       "    }\n",
       "\n",
       "    .dataframe thead th {\n",
       "        text-align: right;\n",
       "    }\n",
       "</style>\n",
       "<table border=\"1\" class=\"dataframe\">\n",
       "  <thead>\n",
       "    <tr style=\"text-align: right;\">\n",
       "      <th></th>\n",
       "      <th>Date</th>\n",
       "      <th>Company</th>\n",
       "      <th>Close</th>\n",
       "      <th>Reference Price</th>\n",
       "    </tr>\n",
       "  </thead>\n",
       "  <tbody>\n",
       "    <tr>\n",
       "      <th>0</th>\n",
       "      <td>1962-01-02</td>\n",
       "      <td>Boeing</td>\n",
       "      <td>0.823045</td>\n",
       "      <td>NaN</td>\n",
       "    </tr>\n",
       "    <tr>\n",
       "      <th>1</th>\n",
       "      <td>1962-01-03</td>\n",
       "      <td>Boeing</td>\n",
       "      <td>0.839506</td>\n",
       "      <td>NaN</td>\n",
       "    </tr>\n",
       "    <tr>\n",
       "      <th>2</th>\n",
       "      <td>1962-01-04</td>\n",
       "      <td>Boeing</td>\n",
       "      <td>0.831276</td>\n",
       "      <td>NaN</td>\n",
       "    </tr>\n",
       "    <tr>\n",
       "      <th>3</th>\n",
       "      <td>1962-01-05</td>\n",
       "      <td>Boeing</td>\n",
       "      <td>0.814815</td>\n",
       "      <td>NaN</td>\n",
       "    </tr>\n",
       "    <tr>\n",
       "      <th>4</th>\n",
       "      <td>1962-01-08</td>\n",
       "      <td>Boeing</td>\n",
       "      <td>0.816872</td>\n",
       "      <td>NaN</td>\n",
       "    </tr>\n",
       "    <tr>\n",
       "      <th>...</th>\n",
       "      <td>...</td>\n",
       "      <td>...</td>\n",
       "      <td>...</td>\n",
       "      <td>...</td>\n",
       "    </tr>\n",
       "    <tr>\n",
       "      <th>14653</th>\n",
       "      <td>2020-03-19</td>\n",
       "      <td>Boeing</td>\n",
       "      <td>97.709999</td>\n",
       "      <td>336.279999</td>\n",
       "    </tr>\n",
       "    <tr>\n",
       "      <th>14654</th>\n",
       "      <td>2020-03-20</td>\n",
       "      <td>Boeing</td>\n",
       "      <td>95.010002</td>\n",
       "      <td>330.380005</td>\n",
       "    </tr>\n",
       "    <tr>\n",
       "      <th>14655</th>\n",
       "      <td>2020-03-23</td>\n",
       "      <td>Boeing</td>\n",
       "      <td>105.620003</td>\n",
       "      <td>317.899994</td>\n",
       "    </tr>\n",
       "    <tr>\n",
       "      <th>14656</th>\n",
       "      <td>2020-03-24</td>\n",
       "      <td>Boeing</td>\n",
       "      <td>127.680000</td>\n",
       "      <td>304.140015</td>\n",
       "    </tr>\n",
       "    <tr>\n",
       "      <th>14657</th>\n",
       "      <td>2020-03-25</td>\n",
       "      <td>Boeing</td>\n",
       "      <td>158.639999</td>\n",
       "      <td>305.589996</td>\n",
       "    </tr>\n",
       "  </tbody>\n",
       "</table>\n",
       "<p>14658 rows × 4 columns</p>\n",
       "</div>"
      ],
      "text/plain": [
       "            Date Company       Close  Reference Price\n",
       "0     1962-01-02  Boeing    0.823045              NaN\n",
       "1     1962-01-03  Boeing    0.839506              NaN\n",
       "2     1962-01-04  Boeing    0.831276              NaN\n",
       "3     1962-01-05  Boeing    0.814815              NaN\n",
       "4     1962-01-08  Boeing    0.816872              NaN\n",
       "...          ...     ...         ...              ...\n",
       "14653 2020-03-19  Boeing   97.709999       336.279999\n",
       "14654 2020-03-20  Boeing   95.010002       330.380005\n",
       "14655 2020-03-23  Boeing  105.620003       317.899994\n",
       "14656 2020-03-24  Boeing  127.680000       304.140015\n",
       "14657 2020-03-25  Boeing  158.639999       305.589996\n",
       "\n",
       "[14658 rows x 4 columns]"
      ]
     },
     "execution_count": 73,
     "metadata": {},
     "output_type": "execute_result"
    }
   ],
   "source": [
    "df['Reference Price'] = df.Close.shift(time_window)\n",
    "df"
   ]
  },
  {
   "cell_type": "markdown",
   "metadata": {},
   "source": [
    "At the beginning of the data, we cannot get a reference point back the entire time window because we do not have the data before that point.\n",
    "\n",
    "We will replace the missing values by the oldest possible price point available: the first historical price point available in the data."
   ]
  },
  {
   "cell_type": "code",
   "execution_count": 74,
   "metadata": {},
   "outputs": [
    {
     "data": {
      "text/html": [
       "<div>\n",
       "<style scoped>\n",
       "    .dataframe tbody tr th:only-of-type {\n",
       "        vertical-align: middle;\n",
       "    }\n",
       "\n",
       "    .dataframe tbody tr th {\n",
       "        vertical-align: top;\n",
       "    }\n",
       "\n",
       "    .dataframe thead th {\n",
       "        text-align: right;\n",
       "    }\n",
       "</style>\n",
       "<table border=\"1\" class=\"dataframe\">\n",
       "  <thead>\n",
       "    <tr style=\"text-align: right;\">\n",
       "      <th></th>\n",
       "      <th>Date</th>\n",
       "      <th>Company</th>\n",
       "      <th>Close</th>\n",
       "      <th>Reference Price</th>\n",
       "    </tr>\n",
       "  </thead>\n",
       "  <tbody>\n",
       "    <tr>\n",
       "      <th>0</th>\n",
       "      <td>1962-01-02</td>\n",
       "      <td>Boeing</td>\n",
       "      <td>0.823045</td>\n",
       "      <td>0.823045</td>\n",
       "    </tr>\n",
       "    <tr>\n",
       "      <th>1</th>\n",
       "      <td>1962-01-03</td>\n",
       "      <td>Boeing</td>\n",
       "      <td>0.839506</td>\n",
       "      <td>0.823045</td>\n",
       "    </tr>\n",
       "    <tr>\n",
       "      <th>2</th>\n",
       "      <td>1962-01-04</td>\n",
       "      <td>Boeing</td>\n",
       "      <td>0.831276</td>\n",
       "      <td>0.823045</td>\n",
       "    </tr>\n",
       "    <tr>\n",
       "      <th>3</th>\n",
       "      <td>1962-01-05</td>\n",
       "      <td>Boeing</td>\n",
       "      <td>0.814815</td>\n",
       "      <td>0.823045</td>\n",
       "    </tr>\n",
       "    <tr>\n",
       "      <th>4</th>\n",
       "      <td>1962-01-08</td>\n",
       "      <td>Boeing</td>\n",
       "      <td>0.816872</td>\n",
       "      <td>0.823045</td>\n",
       "    </tr>\n",
       "    <tr>\n",
       "      <th>...</th>\n",
       "      <td>...</td>\n",
       "      <td>...</td>\n",
       "      <td>...</td>\n",
       "      <td>...</td>\n",
       "    </tr>\n",
       "    <tr>\n",
       "      <th>14653</th>\n",
       "      <td>2020-03-19</td>\n",
       "      <td>Boeing</td>\n",
       "      <td>97.709999</td>\n",
       "      <td>336.279999</td>\n",
       "    </tr>\n",
       "    <tr>\n",
       "      <th>14654</th>\n",
       "      <td>2020-03-20</td>\n",
       "      <td>Boeing</td>\n",
       "      <td>95.010002</td>\n",
       "      <td>330.380005</td>\n",
       "    </tr>\n",
       "    <tr>\n",
       "      <th>14655</th>\n",
       "      <td>2020-03-23</td>\n",
       "      <td>Boeing</td>\n",
       "      <td>105.620003</td>\n",
       "      <td>317.899994</td>\n",
       "    </tr>\n",
       "    <tr>\n",
       "      <th>14656</th>\n",
       "      <td>2020-03-24</td>\n",
       "      <td>Boeing</td>\n",
       "      <td>127.680000</td>\n",
       "      <td>304.140015</td>\n",
       "    </tr>\n",
       "    <tr>\n",
       "      <th>14657</th>\n",
       "      <td>2020-03-25</td>\n",
       "      <td>Boeing</td>\n",
       "      <td>158.639999</td>\n",
       "      <td>305.589996</td>\n",
       "    </tr>\n",
       "  </tbody>\n",
       "</table>\n",
       "<p>14658 rows × 4 columns</p>\n",
       "</div>"
      ],
      "text/plain": [
       "            Date Company       Close  Reference Price\n",
       "0     1962-01-02  Boeing    0.823045         0.823045\n",
       "1     1962-01-03  Boeing    0.839506         0.823045\n",
       "2     1962-01-04  Boeing    0.831276         0.823045\n",
       "3     1962-01-05  Boeing    0.814815         0.823045\n",
       "4     1962-01-08  Boeing    0.816872         0.823045\n",
       "...          ...     ...         ...              ...\n",
       "14653 2020-03-19  Boeing   97.709999       336.279999\n",
       "14654 2020-03-20  Boeing   95.010002       330.380005\n",
       "14655 2020-03-23  Boeing  105.620003       317.899994\n",
       "14656 2020-03-24  Boeing  127.680000       304.140015\n",
       "14657 2020-03-25  Boeing  158.639999       305.589996\n",
       "\n",
       "[14658 rows x 4 columns]"
      ]
     },
     "execution_count": 74,
     "metadata": {},
     "output_type": "execute_result"
    }
   ],
   "source": [
    "df.fillna(value=df.iloc[0]['Close'],inplace=True)\n",
    "df"
   ]
  },
  {
   "cell_type": "markdown",
   "metadata": {},
   "source": [
    "Calculate the change column: last \"Close\" compared to \"Reference Price\" (the reference price being the price of the stock at the start of the `time_window`."
   ]
  },
  {
   "cell_type": "code",
   "execution_count": 75,
   "metadata": {},
   "outputs": [
    {
     "data": {
      "text/html": [
       "<div>\n",
       "<style scoped>\n",
       "    .dataframe tbody tr th:only-of-type {\n",
       "        vertical-align: middle;\n",
       "    }\n",
       "\n",
       "    .dataframe tbody tr th {\n",
       "        vertical-align: top;\n",
       "    }\n",
       "\n",
       "    .dataframe thead th {\n",
       "        text-align: right;\n",
       "    }\n",
       "</style>\n",
       "<table border=\"1\" class=\"dataframe\">\n",
       "  <thead>\n",
       "    <tr style=\"text-align: right;\">\n",
       "      <th></th>\n",
       "      <th>Date</th>\n",
       "      <th>Company</th>\n",
       "      <th>Close</th>\n",
       "      <th>Reference Price</th>\n",
       "      <th>Change</th>\n",
       "    </tr>\n",
       "  </thead>\n",
       "  <tbody>\n",
       "    <tr>\n",
       "      <th>0</th>\n",
       "      <td>1962-01-02</td>\n",
       "      <td>Boeing</td>\n",
       "      <td>0.823045</td>\n",
       "      <td>0.823045</td>\n",
       "      <td>0.000000</td>\n",
       "    </tr>\n",
       "    <tr>\n",
       "      <th>1</th>\n",
       "      <td>1962-01-03</td>\n",
       "      <td>Boeing</td>\n",
       "      <td>0.839506</td>\n",
       "      <td>0.823045</td>\n",
       "      <td>0.020000</td>\n",
       "    </tr>\n",
       "    <tr>\n",
       "      <th>2</th>\n",
       "      <td>1962-01-04</td>\n",
       "      <td>Boeing</td>\n",
       "      <td>0.831276</td>\n",
       "      <td>0.823045</td>\n",
       "      <td>0.010000</td>\n",
       "    </tr>\n",
       "    <tr>\n",
       "      <th>3</th>\n",
       "      <td>1962-01-05</td>\n",
       "      <td>Boeing</td>\n",
       "      <td>0.814815</td>\n",
       "      <td>0.823045</td>\n",
       "      <td>-0.010000</td>\n",
       "    </tr>\n",
       "    <tr>\n",
       "      <th>4</th>\n",
       "      <td>1962-01-08</td>\n",
       "      <td>Boeing</td>\n",
       "      <td>0.816872</td>\n",
       "      <td>0.823045</td>\n",
       "      <td>-0.007500</td>\n",
       "    </tr>\n",
       "    <tr>\n",
       "      <th>...</th>\n",
       "      <td>...</td>\n",
       "      <td>...</td>\n",
       "      <td>...</td>\n",
       "      <td>...</td>\n",
       "      <td>...</td>\n",
       "    </tr>\n",
       "    <tr>\n",
       "      <th>14653</th>\n",
       "      <td>2020-03-19</td>\n",
       "      <td>Boeing</td>\n",
       "      <td>97.709999</td>\n",
       "      <td>336.279999</td>\n",
       "      <td>-0.709439</td>\n",
       "    </tr>\n",
       "    <tr>\n",
       "      <th>14654</th>\n",
       "      <td>2020-03-20</td>\n",
       "      <td>Boeing</td>\n",
       "      <td>95.010002</td>\n",
       "      <td>330.380005</td>\n",
       "      <td>-0.712422</td>\n",
       "    </tr>\n",
       "    <tr>\n",
       "      <th>14655</th>\n",
       "      <td>2020-03-23</td>\n",
       "      <td>Boeing</td>\n",
       "      <td>105.620003</td>\n",
       "      <td>317.899994</td>\n",
       "      <td>-0.667757</td>\n",
       "    </tr>\n",
       "    <tr>\n",
       "      <th>14656</th>\n",
       "      <td>2020-03-24</td>\n",
       "      <td>Boeing</td>\n",
       "      <td>127.680000</td>\n",
       "      <td>304.140015</td>\n",
       "      <td>-0.580193</td>\n",
       "    </tr>\n",
       "    <tr>\n",
       "      <th>14657</th>\n",
       "      <td>2020-03-25</td>\n",
       "      <td>Boeing</td>\n",
       "      <td>158.639999</td>\n",
       "      <td>305.589996</td>\n",
       "      <td>-0.480873</td>\n",
       "    </tr>\n",
       "  </tbody>\n",
       "</table>\n",
       "<p>14658 rows × 5 columns</p>\n",
       "</div>"
      ],
      "text/plain": [
       "            Date Company       Close  Reference Price    Change\n",
       "0     1962-01-02  Boeing    0.823045         0.823045  0.000000\n",
       "1     1962-01-03  Boeing    0.839506         0.823045  0.020000\n",
       "2     1962-01-04  Boeing    0.831276         0.823045  0.010000\n",
       "3     1962-01-05  Boeing    0.814815         0.823045 -0.010000\n",
       "4     1962-01-08  Boeing    0.816872         0.823045 -0.007500\n",
       "...          ...     ...         ...              ...       ...\n",
       "14653 2020-03-19  Boeing   97.709999       336.279999 -0.709439\n",
       "14654 2020-03-20  Boeing   95.010002       330.380005 -0.712422\n",
       "14655 2020-03-23  Boeing  105.620003       317.899994 -0.667757\n",
       "14656 2020-03-24  Boeing  127.680000       304.140015 -0.580193\n",
       "14657 2020-03-25  Boeing  158.639999       305.589996 -0.480873\n",
       "\n",
       "[14658 rows x 5 columns]"
      ]
     },
     "execution_count": 75,
     "metadata": {},
     "output_type": "execute_result"
    }
   ],
   "source": [
    "df['Change'] = (df['Close']-df['Reference Price']) / df['Reference Price']\n",
    "df"
   ]
  },
  {
   "cell_type": "markdown",
   "metadata": {},
   "source": [
    "### Find the worst crisis"
   ]
  },
  {
   "cell_type": "markdown",
   "metadata": {},
   "source": [
    "To find the worst crisis, we are going to search for local minimums in the \"Change\" column. \n",
    "\n",
    "And then find those \"Change\" local minimums that are inferior to the `large_loss` parameter.\n",
    "\n",
    "E.g.: Worst crisis of Boeing over a month (loss larger than -30%)."
   ]
  },
  {
   "cell_type": "code",
   "execution_count": 76,
   "metadata": {},
   "outputs": [
    {
     "data": {
      "text/html": [
       "<div>\n",
       "<style scoped>\n",
       "    .dataframe tbody tr th:only-of-type {\n",
       "        vertical-align: middle;\n",
       "    }\n",
       "\n",
       "    .dataframe tbody tr th {\n",
       "        vertical-align: top;\n",
       "    }\n",
       "\n",
       "    .dataframe thead th {\n",
       "        text-align: right;\n",
       "    }\n",
       "</style>\n",
       "<table border=\"1\" class=\"dataframe\">\n",
       "  <thead>\n",
       "    <tr style=\"text-align: right;\">\n",
       "      <th></th>\n",
       "      <th>Date</th>\n",
       "      <th>Company</th>\n",
       "      <th>Close</th>\n",
       "      <th>Reference Price</th>\n",
       "      <th>Change</th>\n",
       "      <th>Local Min</th>\n",
       "    </tr>\n",
       "  </thead>\n",
       "  <tbody>\n",
       "    <tr>\n",
       "      <th>0</th>\n",
       "      <td>1962-01-02</td>\n",
       "      <td>Boeing</td>\n",
       "      <td>0.823045</td>\n",
       "      <td>0.823045</td>\n",
       "      <td>0.000000</td>\n",
       "      <td>NaN</td>\n",
       "    </tr>\n",
       "    <tr>\n",
       "      <th>1</th>\n",
       "      <td>1962-01-03</td>\n",
       "      <td>Boeing</td>\n",
       "      <td>0.839506</td>\n",
       "      <td>0.823045</td>\n",
       "      <td>0.020000</td>\n",
       "      <td>NaN</td>\n",
       "    </tr>\n",
       "    <tr>\n",
       "      <th>2</th>\n",
       "      <td>1962-01-04</td>\n",
       "      <td>Boeing</td>\n",
       "      <td>0.831276</td>\n",
       "      <td>0.823045</td>\n",
       "      <td>0.010000</td>\n",
       "      <td>NaN</td>\n",
       "    </tr>\n",
       "    <tr>\n",
       "      <th>3</th>\n",
       "      <td>1962-01-05</td>\n",
       "      <td>Boeing</td>\n",
       "      <td>0.814815</td>\n",
       "      <td>0.823045</td>\n",
       "      <td>-0.010000</td>\n",
       "      <td>-0.010000</td>\n",
       "    </tr>\n",
       "    <tr>\n",
       "      <th>4</th>\n",
       "      <td>1962-01-08</td>\n",
       "      <td>Boeing</td>\n",
       "      <td>0.816872</td>\n",
       "      <td>0.823045</td>\n",
       "      <td>-0.007500</td>\n",
       "      <td>NaN</td>\n",
       "    </tr>\n",
       "    <tr>\n",
       "      <th>...</th>\n",
       "      <td>...</td>\n",
       "      <td>...</td>\n",
       "      <td>...</td>\n",
       "      <td>...</td>\n",
       "      <td>...</td>\n",
       "      <td>...</td>\n",
       "    </tr>\n",
       "    <tr>\n",
       "      <th>14653</th>\n",
       "      <td>2020-03-19</td>\n",
       "      <td>Boeing</td>\n",
       "      <td>97.709999</td>\n",
       "      <td>336.279999</td>\n",
       "      <td>-0.709439</td>\n",
       "      <td>NaN</td>\n",
       "    </tr>\n",
       "    <tr>\n",
       "      <th>14654</th>\n",
       "      <td>2020-03-20</td>\n",
       "      <td>Boeing</td>\n",
       "      <td>95.010002</td>\n",
       "      <td>330.380005</td>\n",
       "      <td>-0.712422</td>\n",
       "      <td>-0.712422</td>\n",
       "    </tr>\n",
       "    <tr>\n",
       "      <th>14655</th>\n",
       "      <td>2020-03-23</td>\n",
       "      <td>Boeing</td>\n",
       "      <td>105.620003</td>\n",
       "      <td>317.899994</td>\n",
       "      <td>-0.667757</td>\n",
       "      <td>NaN</td>\n",
       "    </tr>\n",
       "    <tr>\n",
       "      <th>14656</th>\n",
       "      <td>2020-03-24</td>\n",
       "      <td>Boeing</td>\n",
       "      <td>127.680000</td>\n",
       "      <td>304.140015</td>\n",
       "      <td>-0.580193</td>\n",
       "      <td>NaN</td>\n",
       "    </tr>\n",
       "    <tr>\n",
       "      <th>14657</th>\n",
       "      <td>2020-03-25</td>\n",
       "      <td>Boeing</td>\n",
       "      <td>158.639999</td>\n",
       "      <td>305.589996</td>\n",
       "      <td>-0.480873</td>\n",
       "      <td>NaN</td>\n",
       "    </tr>\n",
       "  </tbody>\n",
       "</table>\n",
       "<p>14658 rows × 6 columns</p>\n",
       "</div>"
      ],
      "text/plain": [
       "            Date Company       Close  Reference Price    Change  Local Min\n",
       "0     1962-01-02  Boeing    0.823045         0.823045  0.000000        NaN\n",
       "1     1962-01-03  Boeing    0.839506         0.823045  0.020000        NaN\n",
       "2     1962-01-04  Boeing    0.831276         0.823045  0.010000        NaN\n",
       "3     1962-01-05  Boeing    0.814815         0.823045 -0.010000  -0.010000\n",
       "4     1962-01-08  Boeing    0.816872         0.823045 -0.007500        NaN\n",
       "...          ...     ...         ...              ...       ...        ...\n",
       "14653 2020-03-19  Boeing   97.709999       336.279999 -0.709439        NaN\n",
       "14654 2020-03-20  Boeing   95.010002       330.380005 -0.712422  -0.712422\n",
       "14655 2020-03-23  Boeing  105.620003       317.899994 -0.667757        NaN\n",
       "14656 2020-03-24  Boeing  127.680000       304.140015 -0.580193        NaN\n",
       "14657 2020-03-25  Boeing  158.639999       305.589996 -0.480873        NaN\n",
       "\n",
       "[14658 rows x 6 columns]"
      ]
     },
     "execution_count": 76,
     "metadata": {},
     "output_type": "execute_result"
    }
   ],
   "source": [
    "# Create a column with the local minimums (change smaller than the one before and the one after)\n",
    "df['Local Min'] = df.Change[ (df.Change.shift(1)>df.Change) & (df.Change.shift(-1)>df.Change) ] \n",
    "df"
   ]
  },
  {
   "cell_type": "markdown",
   "metadata": {},
   "source": [
    "Address the fact that the very last price could be a local minimum as well.\n",
    "\n",
    "If the very last price is smaller than the day before, then consider it as a local minimum as well."
   ]
  },
  {
   "cell_type": "code",
   "execution_count": 77,
   "metadata": {},
   "outputs": [
    {
     "data": {
      "text/html": [
       "<div>\n",
       "<style scoped>\n",
       "    .dataframe tbody tr th:only-of-type {\n",
       "        vertical-align: middle;\n",
       "    }\n",
       "\n",
       "    .dataframe tbody tr th {\n",
       "        vertical-align: top;\n",
       "    }\n",
       "\n",
       "    .dataframe thead th {\n",
       "        text-align: right;\n",
       "    }\n",
       "</style>\n",
       "<table border=\"1\" class=\"dataframe\">\n",
       "  <thead>\n",
       "    <tr style=\"text-align: right;\">\n",
       "      <th></th>\n",
       "      <th>Date</th>\n",
       "      <th>Company</th>\n",
       "      <th>Close</th>\n",
       "      <th>Reference Price</th>\n",
       "      <th>Change</th>\n",
       "      <th>Local Min</th>\n",
       "    </tr>\n",
       "  </thead>\n",
       "  <tbody>\n",
       "    <tr>\n",
       "      <th>0</th>\n",
       "      <td>1962-01-02</td>\n",
       "      <td>Boeing</td>\n",
       "      <td>0.823045</td>\n",
       "      <td>0.823045</td>\n",
       "      <td>0.000000</td>\n",
       "      <td>NaN</td>\n",
       "    </tr>\n",
       "    <tr>\n",
       "      <th>1</th>\n",
       "      <td>1962-01-03</td>\n",
       "      <td>Boeing</td>\n",
       "      <td>0.839506</td>\n",
       "      <td>0.823045</td>\n",
       "      <td>0.020000</td>\n",
       "      <td>NaN</td>\n",
       "    </tr>\n",
       "    <tr>\n",
       "      <th>2</th>\n",
       "      <td>1962-01-04</td>\n",
       "      <td>Boeing</td>\n",
       "      <td>0.831276</td>\n",
       "      <td>0.823045</td>\n",
       "      <td>0.010000</td>\n",
       "      <td>NaN</td>\n",
       "    </tr>\n",
       "    <tr>\n",
       "      <th>3</th>\n",
       "      <td>1962-01-05</td>\n",
       "      <td>Boeing</td>\n",
       "      <td>0.814815</td>\n",
       "      <td>0.823045</td>\n",
       "      <td>-0.010000</td>\n",
       "      <td>-0.010000</td>\n",
       "    </tr>\n",
       "    <tr>\n",
       "      <th>4</th>\n",
       "      <td>1962-01-08</td>\n",
       "      <td>Boeing</td>\n",
       "      <td>0.816872</td>\n",
       "      <td>0.823045</td>\n",
       "      <td>-0.007500</td>\n",
       "      <td>NaN</td>\n",
       "    </tr>\n",
       "    <tr>\n",
       "      <th>...</th>\n",
       "      <td>...</td>\n",
       "      <td>...</td>\n",
       "      <td>...</td>\n",
       "      <td>...</td>\n",
       "      <td>...</td>\n",
       "      <td>...</td>\n",
       "    </tr>\n",
       "    <tr>\n",
       "      <th>14653</th>\n",
       "      <td>2020-03-19</td>\n",
       "      <td>Boeing</td>\n",
       "      <td>97.709999</td>\n",
       "      <td>336.279999</td>\n",
       "      <td>-0.709439</td>\n",
       "      <td>NaN</td>\n",
       "    </tr>\n",
       "    <tr>\n",
       "      <th>14654</th>\n",
       "      <td>2020-03-20</td>\n",
       "      <td>Boeing</td>\n",
       "      <td>95.010002</td>\n",
       "      <td>330.380005</td>\n",
       "      <td>-0.712422</td>\n",
       "      <td>-0.712422</td>\n",
       "    </tr>\n",
       "    <tr>\n",
       "      <th>14655</th>\n",
       "      <td>2020-03-23</td>\n",
       "      <td>Boeing</td>\n",
       "      <td>105.620003</td>\n",
       "      <td>317.899994</td>\n",
       "      <td>-0.667757</td>\n",
       "      <td>NaN</td>\n",
       "    </tr>\n",
       "    <tr>\n",
       "      <th>14656</th>\n",
       "      <td>2020-03-24</td>\n",
       "      <td>Boeing</td>\n",
       "      <td>127.680000</td>\n",
       "      <td>304.140015</td>\n",
       "      <td>-0.580193</td>\n",
       "      <td>NaN</td>\n",
       "    </tr>\n",
       "    <tr>\n",
       "      <th>14657</th>\n",
       "      <td>2020-03-25</td>\n",
       "      <td>Boeing</td>\n",
       "      <td>158.639999</td>\n",
       "      <td>305.589996</td>\n",
       "      <td>-0.480873</td>\n",
       "      <td>NaN</td>\n",
       "    </tr>\n",
       "  </tbody>\n",
       "</table>\n",
       "<p>14658 rows × 6 columns</p>\n",
       "</div>"
      ],
      "text/plain": [
       "            Date Company       Close  Reference Price    Change  Local Min\n",
       "0     1962-01-02  Boeing    0.823045         0.823045  0.000000        NaN\n",
       "1     1962-01-03  Boeing    0.839506         0.823045  0.020000        NaN\n",
       "2     1962-01-04  Boeing    0.831276         0.823045  0.010000        NaN\n",
       "3     1962-01-05  Boeing    0.814815         0.823045 -0.010000  -0.010000\n",
       "4     1962-01-08  Boeing    0.816872         0.823045 -0.007500        NaN\n",
       "...          ...     ...         ...              ...       ...        ...\n",
       "14653 2020-03-19  Boeing   97.709999       336.279999 -0.709439        NaN\n",
       "14654 2020-03-20  Boeing   95.010002       330.380005 -0.712422  -0.712422\n",
       "14655 2020-03-23  Boeing  105.620003       317.899994 -0.667757        NaN\n",
       "14656 2020-03-24  Boeing  127.680000       304.140015 -0.580193        NaN\n",
       "14657 2020-03-25  Boeing  158.639999       305.589996 -0.480873        NaN\n",
       "\n",
       "[14658 rows x 6 columns]"
      ]
     },
     "execution_count": 77,
     "metadata": {},
     "output_type": "execute_result"
    }
   ],
   "source": [
    "if df.loc[df.index[-1],'Change'] < df.loc[df.index[-2],'Change']: # if the last change is smaller tham the day before  \n",
    "    df.loc[df.index[-1],'Local Min'] = df.loc[df.index[-1],'Change'] # consider the last change as a local minimum\n",
    "    \n",
    "df"
   ]
  },
  {
   "cell_type": "markdown",
   "metadata": {},
   "source": [
    "Find out the worst crisis by selecting  the rows for which the Change has a Local Minimum inferior to the `large_loss` parameter defined at the top of the Notebook.\n",
    "\n",
    "`df1`will be a smaller copy of the larger `df`. `df1` being will be used to ultimately represent the final output of that entire Notebook."
   ]
  },
  {
   "cell_type": "code",
   "execution_count": 78,
   "metadata": {
    "scrolled": true
   },
   "outputs": [
    {
     "data": {
      "text/html": [
       "<div>\n",
       "<style scoped>\n",
       "    .dataframe tbody tr th:only-of-type {\n",
       "        vertical-align: middle;\n",
       "    }\n",
       "\n",
       "    .dataframe tbody tr th {\n",
       "        vertical-align: top;\n",
       "    }\n",
       "\n",
       "    .dataframe thead th {\n",
       "        text-align: right;\n",
       "    }\n",
       "</style>\n",
       "<table border=\"1\" class=\"dataframe\">\n",
       "  <thead>\n",
       "    <tr style=\"text-align: right;\">\n",
       "      <th></th>\n",
       "      <th>Date</th>\n",
       "      <th>Company</th>\n",
       "      <th>Close</th>\n",
       "      <th>Reference Price</th>\n",
       "      <th>Change</th>\n",
       "      <th>Local Min</th>\n",
       "    </tr>\n",
       "  </thead>\n",
       "  <tbody>\n",
       "    <tr>\n",
       "      <th>2011</th>\n",
       "      <td>1970-02-05</td>\n",
       "      <td>Boeing</td>\n",
       "      <td>0.699588</td>\n",
       "      <td>1.020576</td>\n",
       "      <td>-0.314516</td>\n",
       "      <td>-0.314516</td>\n",
       "    </tr>\n",
       "    <tr>\n",
       "      <th>2977</th>\n",
       "      <td>1973-12-03</td>\n",
       "      <td>Boeing</td>\n",
       "      <td>0.465021</td>\n",
       "      <td>0.666667</td>\n",
       "      <td>-0.302469</td>\n",
       "      <td>-0.302469</td>\n",
       "    </tr>\n",
       "    <tr>\n",
       "      <th>2979</th>\n",
       "      <td>1973-12-05</td>\n",
       "      <td>Boeing</td>\n",
       "      <td>0.448560</td>\n",
       "      <td>0.658436</td>\n",
       "      <td>-0.318750</td>\n",
       "      <td>-0.318750</td>\n",
       "    </tr>\n",
       "    <tr>\n",
       "      <th>9996</th>\n",
       "      <td>2001-09-18</td>\n",
       "      <td>Boeing</td>\n",
       "      <td>33.139999</td>\n",
       "      <td>55.889999</td>\n",
       "      <td>-0.407050</td>\n",
       "      <td>-0.407050</td>\n",
       "    </tr>\n",
       "    <tr>\n",
       "      <th>9998</th>\n",
       "      <td>2001-09-20</td>\n",
       "      <td>Boeing</td>\n",
       "      <td>29.760000</td>\n",
       "      <td>55.130001</td>\n",
       "      <td>-0.460185</td>\n",
       "      <td>-0.460185</td>\n",
       "    </tr>\n",
       "    <tr>\n",
       "      <th>10002</th>\n",
       "      <td>2001-09-26</td>\n",
       "      <td>Boeing</td>\n",
       "      <td>34.290001</td>\n",
       "      <td>52.299999</td>\n",
       "      <td>-0.344359</td>\n",
       "      <td>-0.344359</td>\n",
       "    </tr>\n",
       "    <tr>\n",
       "      <th>10005</th>\n",
       "      <td>2001-10-01</td>\n",
       "      <td>Boeing</td>\n",
       "      <td>32.400002</td>\n",
       "      <td>53.060001</td>\n",
       "      <td>-0.389371</td>\n",
       "      <td>-0.389371</td>\n",
       "    </tr>\n",
       "    <tr>\n",
       "      <th>11775</th>\n",
       "      <td>2008-10-10</td>\n",
       "      <td>Boeing</td>\n",
       "      <td>41.799999</td>\n",
       "      <td>63.299999</td>\n",
       "      <td>-0.339652</td>\n",
       "      <td>-0.339652</td>\n",
       "    </tr>\n",
       "    <tr>\n",
       "      <th>11871</th>\n",
       "      <td>2009-03-02</td>\n",
       "      <td>Boeing</td>\n",
       "      <td>29.510000</td>\n",
       "      <td>42.310001</td>\n",
       "      <td>-0.302529</td>\n",
       "      <td>-0.302529</td>\n",
       "    </tr>\n",
       "    <tr>\n",
       "      <th>14648</th>\n",
       "      <td>2020-03-12</td>\n",
       "      <td>Boeing</td>\n",
       "      <td>154.839996</td>\n",
       "      <td>347.450012</td>\n",
       "      <td>-0.554353</td>\n",
       "      <td>-0.554353</td>\n",
       "    </tr>\n",
       "    <tr>\n",
       "      <th>14654</th>\n",
       "      <td>2020-03-20</td>\n",
       "      <td>Boeing</td>\n",
       "      <td>95.010002</td>\n",
       "      <td>330.380005</td>\n",
       "      <td>-0.712422</td>\n",
       "      <td>-0.712422</td>\n",
       "    </tr>\n",
       "  </tbody>\n",
       "</table>\n",
       "</div>"
      ],
      "text/plain": [
       "            Date Company       Close  Reference Price    Change  Local Min\n",
       "2011  1970-02-05  Boeing    0.699588         1.020576 -0.314516  -0.314516\n",
       "2977  1973-12-03  Boeing    0.465021         0.666667 -0.302469  -0.302469\n",
       "2979  1973-12-05  Boeing    0.448560         0.658436 -0.318750  -0.318750\n",
       "9996  2001-09-18  Boeing   33.139999        55.889999 -0.407050  -0.407050\n",
       "9998  2001-09-20  Boeing   29.760000        55.130001 -0.460185  -0.460185\n",
       "10002 2001-09-26  Boeing   34.290001        52.299999 -0.344359  -0.344359\n",
       "10005 2001-10-01  Boeing   32.400002        53.060001 -0.389371  -0.389371\n",
       "11775 2008-10-10  Boeing   41.799999        63.299999 -0.339652  -0.339652\n",
       "11871 2009-03-02  Boeing   29.510000        42.310001 -0.302529  -0.302529\n",
       "14648 2020-03-12  Boeing  154.839996       347.450012 -0.554353  -0.554353\n",
       "14654 2020-03-20  Boeing   95.010002       330.380005 -0.712422  -0.712422"
      ]
     },
     "execution_count": 78,
     "metadata": {},
     "output_type": "execute_result"
    }
   ],
   "source": [
    "df1 = df[ df['Local Min'] < large_loss ].copy()\n",
    "df1"
   ]
  },
  {
   "cell_type": "markdown",
   "metadata": {},
   "source": [
    "It happens that we have several local minimums in the span of a `time_window`.\n",
    "\n",
    "In order to avoid redundancy and keep only the worst loss point for each crisis, we will keep only the largest loss endured during the span of a given `time_window`.\n",
    "\n",
    "The following function will use a `time_cursor` that will go iteratively at the start of each `time_window`, get the local minimums for that `time_window`, and keep only the worst date as being representative of the crisis during that `time_window`."
   ]
  },
  {
   "cell_type": "code",
   "execution_count": 97,
   "metadata": {},
   "outputs": [
    {
     "name": "stdout",
     "output_type": "stream",
     "text": [
      "time_cursor initiated at: 1970-02-05 00:00:00\n",
      "\n",
      "Data for Time window being considered:\n",
      "\n",
      "           Date Company     Close  Reference Price    Change  Local Min\n",
      "2011 1970-02-05  Boeing  0.699588         1.020576 -0.314516  -0.314516\n",
      "The crisis indexes so far are: [2011]\n",
      "\n",
      "Next row will be:\n",
      "           Date Company     Close  Reference Price    Change  Local Min\n",
      "2977 1973-12-03  Boeing  0.465021         0.666667 -0.302469  -0.302469\n",
      "Moving the time_cursor to the start of the next time window to consider: 1973-12-03 00:00:00\n",
      "\n",
      "Data for Time window being considered:\n",
      "\n",
      "           Date Company     Close  Reference Price    Change  Local Min\n",
      "2977 1973-12-03  Boeing  0.465021         0.666667 -0.302469  -0.302469\n",
      "2979 1973-12-05  Boeing  0.448560         0.658436 -0.318750  -0.318750\n",
      "The crisis indexes so far are: [2011, 2979]\n",
      "\n",
      "Next row will be:\n",
      "           Date Company      Close  Reference Price   Change  Local Min\n",
      "9996 2001-09-18  Boeing  33.139999        55.889999 -0.40705   -0.40705\n",
      "Moving the time_cursor to the start of the next time window to consider: 2001-09-18 00:00:00\n",
      "\n",
      "Data for Time window being considered:\n",
      "\n",
      "            Date Company      Close  Reference Price    Change  Local Min\n",
      "9996  2001-09-18  Boeing  33.139999        55.889999 -0.407050  -0.407050\n",
      "9998  2001-09-20  Boeing  29.760000        55.130001 -0.460185  -0.460185\n",
      "10002 2001-09-26  Boeing  34.290001        52.299999 -0.344359  -0.344359\n",
      "10005 2001-10-01  Boeing  32.400002        53.060001 -0.389371  -0.389371\n",
      "The crisis indexes so far are: [2011, 2979, 9998]\n",
      "\n",
      "Next row will be:\n",
      "            Date Company      Close  Reference Price    Change  Local Min\n",
      "11775 2008-10-10  Boeing  41.799999        63.299999 -0.339652  -0.339652\n",
      "Moving the time_cursor to the start of the next time window to consider: 2008-10-10 00:00:00\n",
      "\n",
      "Data for Time window being considered:\n",
      "\n",
      "            Date Company      Close  Reference Price    Change  Local Min\n",
      "11775 2008-10-10  Boeing  41.799999        63.299999 -0.339652  -0.339652\n",
      "The crisis indexes so far are: [2011, 2979, 9998, 11775]\n",
      "\n",
      "Next row will be:\n",
      "            Date Company  Close  Reference Price    Change  Local Min\n",
      "11871 2009-03-02  Boeing  29.51        42.310001 -0.302529  -0.302529\n",
      "Moving the time_cursor to the start of the next time window to consider: 2009-03-02 00:00:00\n",
      "\n",
      "Data for Time window being considered:\n",
      "\n",
      "            Date Company  Close  Reference Price    Change  Local Min\n",
      "11871 2009-03-02  Boeing  29.51        42.310001 -0.302529  -0.302529\n",
      "The crisis indexes so far are: [2011, 2979, 9998, 11775, 11871]\n",
      "\n",
      "Next row will be:\n",
      "            Date Company       Close  Reference Price    Change  Local Min\n",
      "14648 2020-03-12  Boeing  154.839996       347.450012 -0.554353  -0.554353\n",
      "Moving the time_cursor to the start of the next time window to consider: 2020-03-12 00:00:00\n",
      "\n",
      "Data for Time window being considered:\n",
      "\n",
      "            Date Company       Close  Reference Price    Change  Local Min\n",
      "14648 2020-03-12  Boeing  154.839996       347.450012 -0.554353  -0.554353\n",
      "14654 2020-03-20  Boeing   95.010002       330.380005 -0.712422  -0.712422\n",
      "The crisis indexes so far are: [2011, 2979, 9998, 11775, 11871, 14654]\n",
      "\n",
      "Next row will be:\n",
      "Empty DataFrame\n",
      "Columns: [Date, Company, Close, Reference Price, Change, Local Min]\n",
      "Index: []\n",
      "There is not next date to which to move the the time cursor that is currently at 2020-03-12 00:00:00\n",
      "BREAK OUT OF THE LOOP\n"
     ]
    }
   ],
   "source": [
    "crisis_indexes = [] # initiate a list that will contain the crisis dates\n",
    "time_cursor = df1.loc[df1.index[0],'Date'] # initiate a time cursor that will move at the start of each time_window to consider\n",
    "print(f'time_cursor initiated at: {time_cursor}')\n",
    "condition = df1['Date'] - time_cursor < pd.Timedelta(days=30)\n",
    "time_window_df1 = df1[condition] # select crisis rows whose date are within 30 days of the time cursor\n",
    "\n",
    "# Loop running as long as the cursor can be moved to a next time_window (i.e as long as there are dates moving forward)\n",
    "\n",
    "while True:\n",
    "\n",
    "    print('\\nData for Time window being considered:\\n')\n",
    "    print( time_window_df1 )\n",
    "    # get the date of the worst crisis during the time_window and append to the list of crisis dates\n",
    "    crisis_indexes.append( time_window_df1['Change'].idxmin() ) \n",
    "    print(f'The crisis indexes so far are: {crisis_indexes}')\n",
    "\n",
    "    # Try to get the next row after that time_window, and place the time_cursor there\n",
    "    try:\n",
    "        next_row = df1[ df1['Date'] > time_window_df1.loc[time_window_df1.index[-1],'Date'] ].head(1) # Try to get the next row after that time_window\n",
    "        print('\\nNext row will be:')\n",
    "        print(next_row)\n",
    "        time_cursor = next_row.loc[next_row.index[0],'Date'] # place the time_cursor at the date corresponding to that next row\n",
    "        print(f'Moving the time_cursor to the start of the next time window to consider: {time_cursor}')\n",
    "        # update the condition with new time_cursor (date after time_cursor, but within 30 days)\n",
    "        condition = ( (df1['Date']-time_cursor) >= pd.Timedelta(days=0) ) & ( (df1['Date']-time_cursor) <= pd.Timedelta(days=30) )  \n",
    "        time_window_df1 = df1[condition] # update crisis rows whose date are within 30 days of the time cursor\n",
    "        \n",
    "    # If no next row, we are at the end of the data and we can break the loop there\n",
    "    except:\n",
    "        print(f'There is not next date to which to move the the time cursor that is currently at {time_cursor}\\nBREAK OUT OF THE LOOP')\n",
    "        break\n",
    "\n"
   ]
  },
  {
   "cell_type": "markdown",
   "metadata": {},
   "source": [
    "### We found the worst crisis dates:"
   ]
  },
  {
   "cell_type": "code",
   "execution_count": 98,
   "metadata": {},
   "outputs": [
    {
     "data": {
      "text/plain": [
       "[2011, 2979, 9998, 11775, 11871, 14654]"
      ]
     },
     "execution_count": 98,
     "metadata": {},
     "output_type": "execute_result"
    }
   ],
   "source": [
    "crisis_indexes"
   ]
  },
  {
   "cell_type": "markdown",
   "metadata": {},
   "source": [
    "The data corresponding to those dates is:"
   ]
  },
  {
   "cell_type": "code",
   "execution_count": 102,
   "metadata": {},
   "outputs": [
    {
     "data": {
      "text/html": [
       "<div>\n",
       "<style scoped>\n",
       "    .dataframe tbody tr th:only-of-type {\n",
       "        vertical-align: middle;\n",
       "    }\n",
       "\n",
       "    .dataframe tbody tr th {\n",
       "        vertical-align: top;\n",
       "    }\n",
       "\n",
       "    .dataframe thead th {\n",
       "        text-align: right;\n",
       "    }\n",
       "</style>\n",
       "<table border=\"1\" class=\"dataframe\">\n",
       "  <thead>\n",
       "    <tr style=\"text-align: right;\">\n",
       "      <th></th>\n",
       "      <th>Date</th>\n",
       "      <th>Company</th>\n",
       "      <th>Close</th>\n",
       "      <th>Reference Price</th>\n",
       "      <th>Change</th>\n",
       "      <th>Local Min</th>\n",
       "    </tr>\n",
       "  </thead>\n",
       "  <tbody>\n",
       "    <tr>\n",
       "      <th>2011</th>\n",
       "      <td>1970-02-05</td>\n",
       "      <td>Boeing</td>\n",
       "      <td>0.699588</td>\n",
       "      <td>1.020576</td>\n",
       "      <td>-0.314516</td>\n",
       "      <td>-0.314516</td>\n",
       "    </tr>\n",
       "    <tr>\n",
       "      <th>2979</th>\n",
       "      <td>1973-12-05</td>\n",
       "      <td>Boeing</td>\n",
       "      <td>0.448560</td>\n",
       "      <td>0.658436</td>\n",
       "      <td>-0.318750</td>\n",
       "      <td>-0.318750</td>\n",
       "    </tr>\n",
       "    <tr>\n",
       "      <th>9998</th>\n",
       "      <td>2001-09-20</td>\n",
       "      <td>Boeing</td>\n",
       "      <td>29.760000</td>\n",
       "      <td>55.130001</td>\n",
       "      <td>-0.460185</td>\n",
       "      <td>-0.460185</td>\n",
       "    </tr>\n",
       "    <tr>\n",
       "      <th>11775</th>\n",
       "      <td>2008-10-10</td>\n",
       "      <td>Boeing</td>\n",
       "      <td>41.799999</td>\n",
       "      <td>63.299999</td>\n",
       "      <td>-0.339652</td>\n",
       "      <td>-0.339652</td>\n",
       "    </tr>\n",
       "    <tr>\n",
       "      <th>11871</th>\n",
       "      <td>2009-03-02</td>\n",
       "      <td>Boeing</td>\n",
       "      <td>29.510000</td>\n",
       "      <td>42.310001</td>\n",
       "      <td>-0.302529</td>\n",
       "      <td>-0.302529</td>\n",
       "    </tr>\n",
       "    <tr>\n",
       "      <th>14654</th>\n",
       "      <td>2020-03-20</td>\n",
       "      <td>Boeing</td>\n",
       "      <td>95.010002</td>\n",
       "      <td>330.380005</td>\n",
       "      <td>-0.712422</td>\n",
       "      <td>-0.712422</td>\n",
       "    </tr>\n",
       "  </tbody>\n",
       "</table>\n",
       "</div>"
      ],
      "text/plain": [
       "            Date Company      Close  Reference Price    Change  Local Min\n",
       "2011  1970-02-05  Boeing   0.699588         1.020576 -0.314516  -0.314516\n",
       "2979  1973-12-05  Boeing   0.448560         0.658436 -0.318750  -0.318750\n",
       "9998  2001-09-20  Boeing  29.760000        55.130001 -0.460185  -0.460185\n",
       "11775 2008-10-10  Boeing  41.799999        63.299999 -0.339652  -0.339652\n",
       "11871 2009-03-02  Boeing  29.510000        42.310001 -0.302529  -0.302529\n",
       "14654 2020-03-20  Boeing  95.010002       330.380005 -0.712422  -0.712422"
      ]
     },
     "execution_count": 102,
     "metadata": {},
     "output_type": "execute_result"
    }
   ],
   "source": [
    "df1 = df1.loc[crisis_indexes]\n",
    "df1"
   ]
  },
  {
   "cell_type": "code",
   "execution_count": null,
   "metadata": {},
   "outputs": [],
   "source": []
  },
  {
   "cell_type": "code",
   "execution_count": 91,
   "metadata": {},
   "outputs": [
    {
     "ename": "ValueError",
     "evalue": "The truth value of a Series is ambiguous. Use a.empty, a.bool(), a.item(), a.any() or a.all().",
     "output_type": "error",
     "traceback": [
      "\u001b[0;31m---------------------------------------------------------------------------\u001b[0m",
      "\u001b[0;31mValueError\u001b[0m                                Traceback (most recent call last)",
      "\u001b[0;32m<ipython-input-91-c7d3fda993a2>\u001b[0m in \u001b[0;36m<module>\u001b[0;34m\u001b[0m\n\u001b[0;32m----> 1\u001b[0;31m \u001b[0mdf1\u001b[0m \u001b[0;34m=\u001b[0m \u001b[0mdf1\u001b[0m\u001b[0;34m[\u001b[0m\u001b[0;32mlambda\u001b[0m \u001b[0mx\u001b[0m\u001b[0;34m:\u001b[0m\u001b[0mx\u001b[0m\u001b[0;34m[\u001b[0m\u001b[0;34m'Date'\u001b[0m\u001b[0;34m]\u001b[0m \u001b[0;32min\u001b[0m \u001b[0mcrisis_dates\u001b[0m\u001b[0;34m]\u001b[0m \u001b[0;31m# limit df1 (target output of the Notebook) to worst crisis dates only\u001b[0m\u001b[0;34m\u001b[0m\u001b[0;34m\u001b[0m\u001b[0m\n\u001b[0m\u001b[1;32m      2\u001b[0m \u001b[0mdf1\u001b[0m\u001b[0;34m\u001b[0m\u001b[0;34m\u001b[0m\u001b[0m\n",
      "\u001b[0;32m~/opt/anaconda3/envs/finenv/lib/python3.8/site-packages/pandas/core/frame.py\u001b[0m in \u001b[0;36m__getitem__\u001b[0;34m(self, key)\u001b[0m\n\u001b[1;32m   2767\u001b[0m     \u001b[0;32mdef\u001b[0m \u001b[0m__getitem__\u001b[0m\u001b[0;34m(\u001b[0m\u001b[0mself\u001b[0m\u001b[0;34m,\u001b[0m \u001b[0mkey\u001b[0m\u001b[0;34m)\u001b[0m\u001b[0;34m:\u001b[0m\u001b[0;34m\u001b[0m\u001b[0;34m\u001b[0m\u001b[0m\n\u001b[1;32m   2768\u001b[0m         \u001b[0mkey\u001b[0m \u001b[0;34m=\u001b[0m \u001b[0mlib\u001b[0m\u001b[0;34m.\u001b[0m\u001b[0mitem_from_zerodim\u001b[0m\u001b[0;34m(\u001b[0m\u001b[0mkey\u001b[0m\u001b[0;34m)\u001b[0m\u001b[0;34m\u001b[0m\u001b[0;34m\u001b[0m\u001b[0m\n\u001b[0;32m-> 2769\u001b[0;31m         \u001b[0mkey\u001b[0m \u001b[0;34m=\u001b[0m \u001b[0mcom\u001b[0m\u001b[0;34m.\u001b[0m\u001b[0mapply_if_callable\u001b[0m\u001b[0;34m(\u001b[0m\u001b[0mkey\u001b[0m\u001b[0;34m,\u001b[0m \u001b[0mself\u001b[0m\u001b[0;34m)\u001b[0m\u001b[0;34m\u001b[0m\u001b[0;34m\u001b[0m\u001b[0m\n\u001b[0m\u001b[1;32m   2770\u001b[0m \u001b[0;34m\u001b[0m\u001b[0m\n\u001b[1;32m   2771\u001b[0m         \u001b[0;32mif\u001b[0m \u001b[0mis_hashable\u001b[0m\u001b[0;34m(\u001b[0m\u001b[0mkey\u001b[0m\u001b[0;34m)\u001b[0m\u001b[0;34m:\u001b[0m\u001b[0;34m\u001b[0m\u001b[0;34m\u001b[0m\u001b[0m\n",
      "\u001b[0;32m~/opt/anaconda3/envs/finenv/lib/python3.8/site-packages/pandas/core/common.py\u001b[0m in \u001b[0;36mapply_if_callable\u001b[0;34m(maybe_callable, obj, **kwargs)\u001b[0m\n\u001b[1;32m    341\u001b[0m \u001b[0;34m\u001b[0m\u001b[0m\n\u001b[1;32m    342\u001b[0m     \u001b[0;32mif\u001b[0m \u001b[0mcallable\u001b[0m\u001b[0;34m(\u001b[0m\u001b[0mmaybe_callable\u001b[0m\u001b[0;34m)\u001b[0m\u001b[0;34m:\u001b[0m\u001b[0;34m\u001b[0m\u001b[0;34m\u001b[0m\u001b[0m\n\u001b[0;32m--> 343\u001b[0;31m         \u001b[0;32mreturn\u001b[0m \u001b[0mmaybe_callable\u001b[0m\u001b[0;34m(\u001b[0m\u001b[0mobj\u001b[0m\u001b[0;34m,\u001b[0m \u001b[0;34m**\u001b[0m\u001b[0mkwargs\u001b[0m\u001b[0;34m)\u001b[0m\u001b[0;34m\u001b[0m\u001b[0;34m\u001b[0m\u001b[0m\n\u001b[0m\u001b[1;32m    344\u001b[0m \u001b[0;34m\u001b[0m\u001b[0m\n\u001b[1;32m    345\u001b[0m     \u001b[0;32mreturn\u001b[0m \u001b[0mmaybe_callable\u001b[0m\u001b[0;34m\u001b[0m\u001b[0;34m\u001b[0m\u001b[0m\n",
      "\u001b[0;32m<ipython-input-91-c7d3fda993a2>\u001b[0m in \u001b[0;36m<lambda>\u001b[0;34m(x)\u001b[0m\n\u001b[0;32m----> 1\u001b[0;31m \u001b[0mdf1\u001b[0m \u001b[0;34m=\u001b[0m \u001b[0mdf1\u001b[0m\u001b[0;34m[\u001b[0m\u001b[0;32mlambda\u001b[0m \u001b[0mx\u001b[0m\u001b[0;34m:\u001b[0m\u001b[0mx\u001b[0m\u001b[0;34m[\u001b[0m\u001b[0;34m'Date'\u001b[0m\u001b[0;34m]\u001b[0m \u001b[0;32min\u001b[0m \u001b[0mcrisis_dates\u001b[0m\u001b[0;34m]\u001b[0m \u001b[0;31m# limit df1 (target output of the Notebook) to worst crisis dates only\u001b[0m\u001b[0;34m\u001b[0m\u001b[0;34m\u001b[0m\u001b[0m\n\u001b[0m\u001b[1;32m      2\u001b[0m \u001b[0mdf1\u001b[0m\u001b[0;34m\u001b[0m\u001b[0;34m\u001b[0m\u001b[0m\n",
      "\u001b[0;32m~/opt/anaconda3/envs/finenv/lib/python3.8/site-packages/pandas/core/generic.py\u001b[0m in \u001b[0;36m__nonzero__\u001b[0;34m(self)\u001b[0m\n\u001b[1;32m   1476\u001b[0m \u001b[0;34m\u001b[0m\u001b[0m\n\u001b[1;32m   1477\u001b[0m     \u001b[0;32mdef\u001b[0m \u001b[0m__nonzero__\u001b[0m\u001b[0;34m(\u001b[0m\u001b[0mself\u001b[0m\u001b[0;34m)\u001b[0m\u001b[0;34m:\u001b[0m\u001b[0;34m\u001b[0m\u001b[0;34m\u001b[0m\u001b[0m\n\u001b[0;32m-> 1478\u001b[0;31m         raise ValueError(\n\u001b[0m\u001b[1;32m   1479\u001b[0m             \u001b[0;34mf\"The truth value of a {type(self).__name__} is ambiguous. \"\u001b[0m\u001b[0;34m\u001b[0m\u001b[0;34m\u001b[0m\u001b[0m\n\u001b[1;32m   1480\u001b[0m             \u001b[0;34m\"Use a.empty, a.bool(), a.item(), a.any() or a.all().\"\u001b[0m\u001b[0;34m\u001b[0m\u001b[0;34m\u001b[0m\u001b[0m\n",
      "\u001b[0;31mValueError\u001b[0m: The truth value of a Series is ambiguous. Use a.empty, a.bool(), a.item(), a.any() or a.all()."
     ]
    }
   ],
   "source": [
    "df1 = df1[lambda x:x['Date'] in crisis_dates] # limit df1 (target output of the Notebook) to worst crisis dates only\n",
    "df1"
   ]
  },
  {
   "cell_type": "markdown",
   "metadata": {},
   "source": [
    "### Find the date by which the stock comes back to its initial price"
   ]
  },
  {
   "cell_type": "markdown",
   "metadata": {},
   "source": [
    "For a given crisis, we are going to retrieve the date by which the stock came back to the reference price from which it has fallen."
   ]
  },
  {
   "cell_type": "code",
   "execution_count": null,
   "metadata": {},
   "outputs": [],
   "source": [
    "for crisis_date in df1.index: # Iterate through crisis dates\n",
    "    # Try to get the first day after the crisis  where the stock closed higher than the Reference Price. \n",
    "    # If it exists (thus the Try)\n",
    "    try: \n",
    "        df1.loc[crisis_date,'got back by'] = df.loc[ ( df.index > crisis_date ) & \n",
    "                                                    ( df.Close > df.loc[crisis_date,'Reference Price']) ].iloc[0].name\n",
    "    except:\n",
    "        print(f'Could not find a date by which the stock got back to its reference price for crisis dated:Ù{crisis_date}')\n",
    "df1"
   ]
  },
  {
   "cell_type": "markdown",
   "metadata": {},
   "source": [
    "And indicate the duration it took for the stock to come back to its reference price (to come back from the crisis)"
   ]
  },
  {
   "cell_type": "code",
   "execution_count": null,
   "metadata": {},
   "outputs": [],
   "source": [
    "df1.reset_index()\n",
    "# Using Timestamp only\n",
    "delta = df1['got back by'] - df1[\"Date\"]\n",
    "delta"
   ]
  },
  {
   "cell_type": "code",
   "execution_count": null,
   "metadata": {},
   "outputs": [],
   "source": [
    "type(delta)"
   ]
  },
  {
   "cell_type": "code",
   "execution_count": null,
   "metadata": {},
   "outputs": [],
   "source": [
    "# transform the index in a series of dates and calculate duration for stock to come back from crisis\n",
    "df1['Duration (years)'] = df1['got back by'] - pd.to_datetime(df1.index.to_series()).dt.date  \n",
    "# Get the number of days of the duraction object and divide by 365 to get years\n",
    "df1['Duration (years)'] = df1['Duration (years)'].apply(lambda x: x.days / 365)\n",
    "df1"
   ]
  },
  {
   "cell_type": "markdown",
   "metadata": {},
   "source": [
    "Develop the duration into the exact number of years, months and days:"
   ]
  },
  {
   "cell_type": "code",
   "execution_count": null,
   "metadata": {},
   "outputs": [],
   "source": [
    "for i in range(len(df1)-1):\n",
    "    my_relative_delta = relativedelta( df1.loc[df1.index[i],'got back by'] , pd.to_datetime(df1.index.to_series()).dt.date[i] )\n",
    "    df1.loc[df1.index[i],'years'] = my_relative_delta.years\n",
    "    df1.loc[df1.index[i],'months'] = my_relative_delta.months\n",
    "    df1.loc[df1.index[i],'days'] = my_relative_delta.days\n",
    "df1\n"
   ]
  },
  {
   "cell_type": "markdown",
   "metadata": {},
   "source": [
    "### Rename the columns to make it more readable as a final output"
   ]
  },
  {
   "cell_type": "code",
   "execution_count": null,
   "metadata": {
    "scrolled": true
   },
   "outputs": [],
   "source": [
    "# Rename columns to make it more readable\n",
    "df1.rename(columns={'Close': 'Low', 'Reference Price':'from High', 'Duration (years)':'after (years)'}, inplace=True)\n",
    "# Drop unnecessary columns\n",
    "df1.drop(columns=['Local Min','Company'],inplace=True)\n",
    "# Rename the index to \"Crisis\"\n",
    "df1.index.rename('Crisis',inplace=True)\n",
    "df1"
   ]
  },
  {
   "cell_type": "markdown",
   "metadata": {},
   "source": [
    "Make the Change column readable as a percentage"
   ]
  },
  {
   "cell_type": "markdown",
   "metadata": {},
   "source": [
    "# RESULT"
   ]
  },
  {
   "cell_type": "markdown",
   "metadata": {},
   "source": [
    "Create a df2 copy of the df1 that will be formatted to be the ouptup for readability."
   ]
  },
  {
   "cell_type": "code",
   "execution_count": null,
   "metadata": {},
   "outputs": [],
   "source": [
    "df2 = df1.copy()"
   ]
  },
  {
   "cell_type": "code",
   "execution_count": null,
   "metadata": {},
   "outputs": [],
   "source": [
    "df2[\"Change\"] = df2[\"Change\"] * 100"
   ]
  },
  {
   "cell_type": "code",
   "execution_count": null,
   "metadata": {
    "scrolled": true
   },
   "outputs": [],
   "source": [
    "# Formatting the numbers\n",
    "df2.index = df2.index.strftime(\"%Y-%m-%d\") # Replace the index by formatted strings Y-d-m\n",
    "df2.style.format({'Low':'${:.2f}','from High':'${:.2f}','Change':'{:.2f}%','got back by':'{}','after (years)':'{:.2f}',\n",
    "                  'years':'{:.0f}','months':'{:.0f}','days':'{:.0f}'},na_rep=\"-\")\\\n",
    "        .bar(subset=['Change'],color='#E98888',align='mid')\\\n",
    "        .bar(subset=['after (years)'],color='#88ABE9',align='mid')\\\n",
    "        .set_caption(f\"Company: {stock_name}\")"
   ]
  },
  {
   "cell_type": "code",
   "execution_count": null,
   "metadata": {},
   "outputs": [],
   "source": [
    "#df.to_csv('BA.csv')"
   ]
  },
  {
   "cell_type": "markdown",
   "metadata": {},
   "source": [
    "# ANNEX (Plot)"
   ]
  },
  {
   "cell_type": "markdown",
   "metadata": {},
   "source": [
    "## Plot the period where the stock suffered a crisis and it took the MOST time to come back"
   ]
  },
  {
   "cell_type": "markdown",
   "metadata": {},
   "source": [
    "Find the row corresponding to the period suffered a crisis and it took the longer to come back from it:"
   ]
  },
  {
   "cell_type": "code",
   "execution_count": null,
   "metadata": {},
   "outputs": [],
   "source": [
    "df1.loc[ df1[\"after (years)\"].idxmax() ]"
   ]
  },
  {
   "cell_type": "code",
   "execution_count": null,
   "metadata": {},
   "outputs": [],
   "source": [
    "df1[\"after (years)\"].idxmax()"
   ]
  },
  {
   "cell_type": "code",
   "execution_count": null,
   "metadata": {},
   "outputs": [],
   "source": [
    "df1.loc[ df1[\"after (years)\"].idxmax() ,\"got back by\"]"
   ]
  },
  {
   "cell_type": "code",
   "execution_count": null,
   "metadata": {},
   "outputs": [],
   "source": [
    "df.loc[ df1[\"after (years)\"].idxmax() - DateOffset(days=30) : df1.loc[ df1[\"after (years)\"].idxmax() + Timedelta(days=30) ,\"got back by\"] ]"
   ]
  },
  {
   "cell_type": "code",
   "execution_count": null,
   "metadata": {},
   "outputs": [],
   "source": []
  },
  {
   "cell_type": "markdown",
   "metadata": {},
   "source": [
    "## Plot the period where the stock suffered a crisis and it took the LESS time to come back"
   ]
  },
  {
   "cell_type": "code",
   "execution_count": null,
   "metadata": {},
   "outputs": [],
   "source": []
  },
  {
   "cell_type": "code",
   "execution_count": null,
   "metadata": {},
   "outputs": [],
   "source": []
  },
  {
   "cell_type": "code",
   "execution_count": null,
   "metadata": {},
   "outputs": [],
   "source": []
  },
  {
   "cell_type": "code",
   "execution_count": null,
   "metadata": {},
   "outputs": [],
   "source": []
  },
  {
   "cell_type": "code",
   "execution_count": null,
   "metadata": {},
   "outputs": [],
   "source": [
    "# Will allow us to embed images in the notebook\n",
    "%matplotlib inline\n",
    "\n",
    "register_matplotlib_converters()\n",
    "\n",
    "# Create a figure containing a single axes\n",
    "fig, ax = plt.subplots()\n",
    "\n",
    "# Draw on the axes\n",
    "ax.plot(df.index.values,df['Change'])\n",
    "\n",
    "plt.show()"
   ]
  },
  {
   "cell_type": "code",
   "execution_count": null,
   "metadata": {},
   "outputs": [],
   "source": []
  }
 ],
 "metadata": {
  "kernelspec": {
   "display_name": "Python 3",
   "language": "python",
   "name": "python3"
  },
  "language_info": {
   "codemirror_mode": {
    "name": "ipython",
    "version": 3
   },
   "file_extension": ".py",
   "mimetype": "text/x-python",
   "name": "python",
   "nbconvert_exporter": "python",
   "pygments_lexer": "ipython3",
   "version": "3.8.1"
  }
 },
 "nbformat": 4,
 "nbformat_minor": 2
}
